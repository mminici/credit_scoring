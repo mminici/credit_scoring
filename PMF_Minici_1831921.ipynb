{
 "cells": [
  {
   "cell_type": "code",
   "execution_count": 97,
   "metadata": {},
   "outputs": [],
   "source": [
    "import pandas as pd\n",
    "import numpy as np\n",
    "from sklearn import preprocessing\n",
    "from sklearn.model_selection import train_test_split"
   ]
  },
  {
   "cell_type": "code",
   "execution_count": 98,
   "metadata": {},
   "outputs": [],
   "source": [
    "dataset_name = \"dataset_stima.csv\""
   ]
  },
  {
   "cell_type": "code",
   "execution_count": 99,
   "metadata": {},
   "outputs": [],
   "source": [
    "training_data = pd.read_csv(dataset_name, index_col = 0)"
   ]
  },
  {
   "cell_type": "code",
   "execution_count": 100,
   "metadata": {},
   "outputs": [
    {
     "data": {
      "text/plain": [
       "Index(['SESSO', 'REGIONE', 'ANZ_RES', 'ANZ_BAN', 'ANZ_PROF', 'STA_CIVILE',\n",
       "       'NUM_FIGLI', 'NAZ_NASCITA', 'PROFESSIONE', 'REDDITO_CLT', 'REDDITO_FAM',\n",
       "       'AGE', 'RESIDENZA', 'score_cmp_qe', 'score_cmp_cb', 'num_sal_rec',\n",
       "       'num_mes_rec', 'ClientStatus', 'num_rit_ori', 'canale_fin',\n",
       "       'NUM_PRA_pp', 'esposizione_pp', 'durata_residua_pp', 'NUM_PRA_cc',\n",
       "       'esposizione_cc', 'durata_residua_cc', 'NUM_SAL_PP', 'NUM_SAL_CC',\n",
       "       'NUM_PRA_cp', 'esposizione_cp'],\n",
       "      dtype='object')"
      ]
     },
     "execution_count": 100,
     "metadata": {},
     "output_type": "execute_result"
    }
   ],
   "source": [
    "training_data.columns"
   ]
  },
  {
   "cell_type": "code",
   "execution_count": 101,
   "metadata": {},
   "outputs": [
    {
     "data": {
      "text/html": [
       "<div>\n",
       "<style scoped>\n",
       "    .dataframe tbody tr th:only-of-type {\n",
       "        vertical-align: middle;\n",
       "    }\n",
       "\n",
       "    .dataframe tbody tr th {\n",
       "        vertical-align: top;\n",
       "    }\n",
       "\n",
       "    .dataframe thead th {\n",
       "        text-align: right;\n",
       "    }\n",
       "</style>\n",
       "<table border=\"1\" class=\"dataframe\">\n",
       "  <thead>\n",
       "    <tr style=\"text-align: right;\">\n",
       "      <th></th>\n",
       "      <th>SESSO</th>\n",
       "      <th>REGIONE</th>\n",
       "      <th>ANZ_RES</th>\n",
       "      <th>ANZ_BAN</th>\n",
       "      <th>ANZ_PROF</th>\n",
       "      <th>STA_CIVILE</th>\n",
       "      <th>NUM_FIGLI</th>\n",
       "      <th>NAZ_NASCITA</th>\n",
       "      <th>PROFESSIONE</th>\n",
       "      <th>REDDITO_CLT</th>\n",
       "      <th>...</th>\n",
       "      <th>NUM_PRA_pp</th>\n",
       "      <th>esposizione_pp</th>\n",
       "      <th>durata_residua_pp</th>\n",
       "      <th>NUM_PRA_cc</th>\n",
       "      <th>esposizione_cc</th>\n",
       "      <th>durata_residua_cc</th>\n",
       "      <th>NUM_SAL_PP</th>\n",
       "      <th>NUM_SAL_CC</th>\n",
       "      <th>NUM_PRA_cp</th>\n",
       "      <th>esposizione_cp</th>\n",
       "    </tr>\n",
       "  </thead>\n",
       "  <tbody>\n",
       "    <tr>\n",
       "      <th>1</th>\n",
       "      <td>M</td>\n",
       "      <td>12.0</td>\n",
       "      <td>1</td>\n",
       "      <td>22.0</td>\n",
       "      <td>10</td>\n",
       "      <td>C</td>\n",
       "      <td>1</td>\n",
       "      <td>1</td>\n",
       "      <td>7</td>\n",
       "      <td>1032</td>\n",
       "      <td>...</td>\n",
       "      <td>0</td>\n",
       "      <td>0.00</td>\n",
       "      <td>0</td>\n",
       "      <td>1</td>\n",
       "      <td>552.10</td>\n",
       "      <td>9</td>\n",
       "      <td>0</td>\n",
       "      <td>2</td>\n",
       "      <td>1</td>\n",
       "      <td>2843.12</td>\n",
       "    </tr>\n",
       "    <tr>\n",
       "      <th>2</th>\n",
       "      <td>M</td>\n",
       "      <td>4.0</td>\n",
       "      <td>89</td>\n",
       "      <td>4.0</td>\n",
       "      <td>0</td>\n",
       "      <td>M</td>\n",
       "      <td>0</td>\n",
       "      <td>1</td>\n",
       "      <td>6</td>\n",
       "      <td>1091</td>\n",
       "      <td>...</td>\n",
       "      <td>0</td>\n",
       "      <td>0.00</td>\n",
       "      <td>0</td>\n",
       "      <td>0</td>\n",
       "      <td>0.00</td>\n",
       "      <td>0</td>\n",
       "      <td>0</td>\n",
       "      <td>1</td>\n",
       "      <td>0</td>\n",
       "      <td>0.00</td>\n",
       "    </tr>\n",
       "    <tr>\n",
       "      <th>3</th>\n",
       "      <td>M</td>\n",
       "      <td>3.0</td>\n",
       "      <td>93</td>\n",
       "      <td>1.0</td>\n",
       "      <td>9</td>\n",
       "      <td>C</td>\n",
       "      <td>3</td>\n",
       "      <td>1</td>\n",
       "      <td>4</td>\n",
       "      <td>1778</td>\n",
       "      <td>...</td>\n",
       "      <td>1</td>\n",
       "      <td>14817.69</td>\n",
       "      <td>56</td>\n",
       "      <td>0</td>\n",
       "      <td>0.00</td>\n",
       "      <td>0</td>\n",
       "      <td>0</td>\n",
       "      <td>0</td>\n",
       "      <td>1</td>\n",
       "      <td>0.00</td>\n",
       "    </tr>\n",
       "    <tr>\n",
       "      <th>4</th>\n",
       "      <td>M</td>\n",
       "      <td>12.0</td>\n",
       "      <td>85</td>\n",
       "      <td>22.0</td>\n",
       "      <td>80</td>\n",
       "      <td>C</td>\n",
       "      <td>3</td>\n",
       "      <td>1</td>\n",
       "      <td>4</td>\n",
       "      <td>1267</td>\n",
       "      <td>...</td>\n",
       "      <td>0</td>\n",
       "      <td>0.00</td>\n",
       "      <td>0</td>\n",
       "      <td>1</td>\n",
       "      <td>278.34</td>\n",
       "      <td>4</td>\n",
       "      <td>1</td>\n",
       "      <td>0</td>\n",
       "      <td>1</td>\n",
       "      <td>0.00</td>\n",
       "    </tr>\n",
       "    <tr>\n",
       "      <th>5</th>\n",
       "      <td>M</td>\n",
       "      <td>8.0</td>\n",
       "      <td>4</td>\n",
       "      <td>3.0</td>\n",
       "      <td>11</td>\n",
       "      <td>D</td>\n",
       "      <td>0</td>\n",
       "      <td>1</td>\n",
       "      <td>4</td>\n",
       "      <td>3268</td>\n",
       "      <td>...</td>\n",
       "      <td>0</td>\n",
       "      <td>0.00</td>\n",
       "      <td>0</td>\n",
       "      <td>0</td>\n",
       "      <td>0.00</td>\n",
       "      <td>0</td>\n",
       "      <td>0</td>\n",
       "      <td>0</td>\n",
       "      <td>0</td>\n",
       "      <td>0.00</td>\n",
       "    </tr>\n",
       "  </tbody>\n",
       "</table>\n",
       "<p>5 rows × 30 columns</p>\n",
       "</div>"
      ],
      "text/plain": [
       "  SESSO  REGIONE  ANZ_RES  ANZ_BAN  ANZ_PROF STA_CIVILE  NUM_FIGLI  \\\n",
       "1     M     12.0        1     22.0        10          C          1   \n",
       "2     M      4.0       89      4.0         0          M          0   \n",
       "3     M      3.0       93      1.0         9          C          3   \n",
       "4     M     12.0       85     22.0        80          C          3   \n",
       "5     M      8.0        4      3.0        11          D          0   \n",
       "\n",
       "   NAZ_NASCITA  PROFESSIONE  REDDITO_CLT  ...  NUM_PRA_pp  esposizione_pp  \\\n",
       "1            1            7         1032  ...           0            0.00   \n",
       "2            1            6         1091  ...           0            0.00   \n",
       "3            1            4         1778  ...           1        14817.69   \n",
       "4            1            4         1267  ...           0            0.00   \n",
       "5            1            4         3268  ...           0            0.00   \n",
       "\n",
       "  durata_residua_pp  NUM_PRA_cc  esposizione_cc  durata_residua_cc  \\\n",
       "1                 0           1          552.10                  9   \n",
       "2                 0           0            0.00                  0   \n",
       "3                56           0            0.00                  0   \n",
       "4                 0           1          278.34                  4   \n",
       "5                 0           0            0.00                  0   \n",
       "\n",
       "   NUM_SAL_PP  NUM_SAL_CC  NUM_PRA_cp  esposizione_cp  \n",
       "1           0           2           1         2843.12  \n",
       "2           0           1           0            0.00  \n",
       "3           0           0           1            0.00  \n",
       "4           1           0           1            0.00  \n",
       "5           0           0           0            0.00  \n",
       "\n",
       "[5 rows x 30 columns]"
      ]
     },
     "execution_count": 101,
     "metadata": {},
     "output_type": "execute_result"
    }
   ],
   "source": [
    "training_data.head()"
   ]
  },
  {
   "cell_type": "markdown",
   "metadata": {},
   "source": [
    "Come espresso a pagina 2 di \\[1\\], le procedure automatiche di supporto alla decisione di concessione del credito sono state sottoposte ad una rigorosa legislazione per prevenire comportamenti discriminatori. Il primo esempio di regolazione statale è l'Equal Credit Opportunity Act \\[2\\] emanato dal governo USA nel 1974.\n",
    "Seguendo quanto scritto in \\[2\\] vengono eliminate dal dataset le seguenti informazioni:\n",
    "\n",
    "- Sesso\n",
    "- Età\n",
    "- Stato Civile\n",
    "- Nazione di nascita"
   ]
  },
  {
   "cell_type": "code",
   "execution_count": 102,
   "metadata": {},
   "outputs": [],
   "source": [
    "del training_data[\"SESSO\"]\n",
    "del training_data[\"NAZ_NASCITA\"]\n",
    "del training_data[\"STA_CIVILE\"]\n",
    "del training_data[\"AGE\"]"
   ]
  },
  {
   "cell_type": "markdown",
   "metadata": {},
   "source": [
    "Il compendio di variabili che caratterizza il dataset è descritto nell'immagine che segue:\n",
    "***\n",
    "![Descrizione dataset](./res/Capture.PNG)\n",
    "***\n"
   ]
  },
  {
   "cell_type": "markdown",
   "metadata": {},
   "source": [
    "Come descritto in \\[1\\], l'obiettivo del credit scoring è quello di prevedere una variabile binaria che discerne la potenziale clientela tra \"buoni\" e \"cattivi\" pagatori. \n",
    "\n",
    "Il nostro dataset identifica la clientela in tre diverse categorie, per questo motivo ricondurremo i due casi negativi(_contenzioso_ e _recupero_) in uno unico, il cosiddetto _cattivo_. Questo passaggio potrebbe sembrare 'artificioso', ma segue il principio di definizione della variabile di classificazione definito in \\[1\\] come\n",
    "> _l'evento a partire dal quale si ingenera un reale disagio per l'ente che eroga il credito._"
   ]
  },
  {
   "cell_type": "code",
   "execution_count": 103,
   "metadata": {},
   "outputs": [],
   "source": [
    "indexes_of_bad_payers = (training_data[\"ClientStatus\"] == 1) | (training_data[\"ClientStatus\"] == 2)\n",
    "indexes_of_good_payers = (training_data[\"ClientStatus\"] == 0)\n",
    "\n",
    "GOOD_PAYER_STATUS = 1\n",
    "BAD_PAYER_STATUS = 0\n",
    "\n",
    "training_data.loc[indexes_of_bad_payers,\"ClientStatus\"] = BAD_PAYER_STATUS\n",
    "training_data.loc[indexes_of_good_payers,\"ClientStatus\"] = GOOD_PAYER_STATUS"
   ]
  },
  {
   "cell_type": "code",
   "execution_count": 104,
   "metadata": {},
   "outputs": [
    {
     "data": {
      "text/plain": [
       "array([1, 0])"
      ]
     },
     "execution_count": 104,
     "metadata": {},
     "output_type": "execute_result"
    }
   ],
   "source": [
    "#sanity check\n",
    "training_data[\"ClientStatus\"].unique()"
   ]
  },
  {
   "cell_type": "markdown",
   "metadata": {},
   "source": [
    "Pre-Processamento dei dati: **Variabili Dummy.**\n",
    "\n",
    "Quando il nostro dataset è caratterizzato da variabili categoriali, un modo di trattarle è quello di trasformarle in variabili binarie attraverso le variabili _dummy_. \\[1\\]\n",
    "\n",
    "Esempio:\n",
    "\n",
    "Un cittadino laziale può essere residente solo nelle province di Roma, Viterbo, Latina, Frosinone o Rieti. La variabile \"città\" che descrive la provincia di residenza viene trasformata in cinque variabili binarie diverse che assumono valori 1 o 0 nel caso il cittadino sia effettivamente nato in quella città oppure no.\n",
    "\n",
    "![Descrizione dummy variables](./res/dummy.png)"
   ]
  },
  {
   "cell_type": "markdown",
   "metadata": {},
   "source": [
    "Le variabili trasformate in dummy nel nostro dataset sono le seguenti:\n",
    "- \"score_cmp_cb\": che è lo score comportamentale del credit bureau\n",
    "- \"RESIDENZA\": rappresenta la tipologia di residenza \"Proprietario\", \"Locatario\", etc."
   ]
  },
  {
   "cell_type": "code",
   "execution_count": 105,
   "metadata": {},
   "outputs": [],
   "source": [
    "df_with_new_columns = pd.get_dummies(training_data[\"score_cmp_cb\"], prefix = \"score_bureau\")\n",
    "#append new columns\n",
    "training_data = pd.concat([training_data,df_with_new_columns], axis = 1)\n",
    "#delete the original column\n",
    "del training_data[\"score_cmp_cb\"]"
   ]
  },
  {
   "cell_type": "code",
   "execution_count": 106,
   "metadata": {},
   "outputs": [],
   "source": [
    "df_with_new_columns = pd.get_dummies(training_data[\"RESIDENZA\"], prefix = \"tipo_residenza\")\n",
    "#append new columns\n",
    "training_data = pd.concat([training_data,df_with_new_columns], axis = 1)\n",
    "#delete the original column\n",
    "del training_data[\"RESIDENZA\"]"
   ]
  },
  {
   "cell_type": "code",
   "execution_count": 80,
   "metadata": {},
   "outputs": [],
   "source": [
    "df_with_new_columns = pd.get_dummies(training_data[\"canale_fin\"], prefix = \"canale_fin\")\n",
    "#append new columns\n",
    "training_data = pd.concat([training_data,df_with_new_columns], axis = 1)\n",
    "#delete the original column\n",
    "del training_data[\"canale_fin\"]"
   ]
  },
  {
   "cell_type": "code",
   "execution_count": 81,
   "metadata": {},
   "outputs": [],
   "source": [
    "df_with_new_columns = pd.get_dummies(training_data[\"REGIONE\"], prefix = \"regione\")\n",
    "#append new columns\n",
    "training_data = pd.concat([training_data,df_with_new_columns], axis = 1)\n",
    "#delete the original column\n",
    "del training_data[\"REGIONE\"]"
   ]
  },
  {
   "cell_type": "markdown",
   "metadata": {},
   "source": [
    "Pre-Processamento dei dati: Gestire valori nulli/NAs del dataset.\n",
    "\n",
    "Può succedere che nei nostri dati compaiano dei valori nulli/NAs. Questi valori possono essere gestiti in vari modi  in base alla loro interpretazione. Possibili strategie sono:\n",
    "\n",
    "- Eliminazione NAs.\n",
    "- Imputazione tramite media, mediana, moda o modelli predittivi.\n",
    "\n",
    "Le ragioni, i vantaggi e gli svantaggi di ogni strategia non verrano espressi qui, visto che non sono argomento principale di questo lavoro."
   ]
  },
  {
   "cell_type": "code",
   "execution_count": 107,
   "metadata": {},
   "outputs": [
    {
     "name": "stdout",
     "output_type": "stream",
     "text": [
      "Attributo REGIONE ha 3 NAs\n",
      "Attributo ANZ_BAN ha 27 NAs\n"
     ]
    }
   ],
   "source": [
    "for field in training_data.columns[training_data.isna().any()].tolist():\n",
    "    print(\"Attributo \"+field+\" ha \"+str(training_data[field].isna().sum())+\" NAs\")"
   ]
  },
  {
   "cell_type": "markdown",
   "metadata": {},
   "source": [
    "Sono presenti 27 records con valore NA della variabile ANZ_BAN e 3 records con valore NA della variabile REGIONE. Visto il ridotto numero si è deciso di eliminarli."
   ]
  },
  {
   "cell_type": "code",
   "execution_count": 108,
   "metadata": {},
   "outputs": [],
   "source": [
    "training_data=training_data.dropna()"
   ]
  },
  {
   "cell_type": "markdown",
   "metadata": {},
   "source": [
    "Pre-Processamento dei dati: Divisione in campione di sviluppo(_training sample_) e campione di convalida(_test sample_). \n",
    "\n",
    "Come evidenziato in \\[1\\], per evitare di utilizzare le unità due volte, è buona prassi dividere il campione in due sotto-campioni. Il campione di sviluppo per costruire il sistema di scoring e il campione di convalida per valutarlo. Il secondo è generalmente di inferiore numerosità e in questo caso verrà usata la divisione training-test **70-30**. \n",
    "\n",
    "La divisione \"$\\frac{1}{3}$-$\\frac{2}{3}$\" del campione è stata usata in letteratura da molti studi  (Lee et al, 2002; Desai et al, 1996; Boritz & Kennedy, 1995; Dutta et al, 1994) come mostrato nell'ampia review su credit scoring in \\[4\\]."
   ]
  },
  {
   "cell_type": "code",
   "execution_count": 109,
   "metadata": {},
   "outputs": [],
   "source": [
    "#dividiamo la variabile target Y(\"Client Status\") dalle variabili esplicative X(tutte le altre)\n",
    "y = training_data[\"ClientStatus\"]\n",
    "del training_data[\"ClientStatus\"]\n",
    "X = training_data.copy()"
   ]
  },
  {
   "cell_type": "code",
   "execution_count": 110,
   "metadata": {},
   "outputs": [],
   "source": [
    "X_train, X_test, y_train, y_test = train_test_split(X, y, test_size = 0.3, random_state = 0)"
   ]
  },
  {
   "cell_type": "markdown",
   "metadata": {},
   "source": [
    "Pre-Processamento dei dati: Standardizzazione delle variabili predittive\n",
    "\n",
    "Una pratica usata nell'ambito del Machine Learning è la standardizzazione delle variabili predittive. Questa trasformazione dei dati fonda il suo uso in diverse ragioni:\n",
    "\n",
    "1. Migliore interpretazione dei coefficienti di regressione. Interpretare il valore dei coefficienti di regressione tra variabili che operano su scale diverse(euro vs kg, mm vs km, etc.) è più complesso rispetto a variabili che operano sulla stessa scala.\n",
    "\n",
    "2. Corretto uso di algoritmi basati su distanza. Algoritmi come il K-Means basati sulla distanza tra oggetti possono interpretare fallacemente variabili su scale diverse e produrre risultati non desiderabili.\n",
    "\n",
    "3. Sinergia con procedure di regolarizzazione. I metodi di regolarizzazione come LASSO richiedono una standardizzazione iniziale dei regressori, in modo che la penalizzazione sia equa con tutti i regressori. \\[8\\]\n",
    "\n",
    "4. Altri motivi sempre relativi alla varianza di scala di algoritmi, procedure di ottimizzazione(gradiente discendente), etc."
   ]
  },
  {
   "cell_type": "code",
   "execution_count": 111,
   "metadata": {},
   "outputs": [],
   "source": [
    "from sklearn.preprocessing import StandardScaler\n",
    "#scaler = StandardScaler()\n",
    "#X_train.loc[:,X_train.columns] = scaler.fit_transform(X_train[X_train.columns].to_numpy())\n",
    "#X_test.loc[:,X_test.columns] = scaler.fit_transform(X_test[X_test.columns].to_numpy())"
   ]
  },
  {
   "cell_type": "markdown",
   "metadata": {},
   "source": [
    "Pre-Processamento dei dati: **Sotto-campionamento** per avere un campione bilanciato.\n",
    "\n",
    "Come riportato in \\[1\\], un problema del credit scoring è quello di avere una distribuzione _sbilanciata_ sulla variabile di risposta $Y$ rispetto alle unità \"buone\". Ricordiamo che i dati ottenuti sono disponibili soltanto per clienti che inizialmente avevano ottenuto l'erogazione del finanziamento, quindi è auspicabile che il numero dei clienti insolventi sia molto minore di quelli regolari.\n",
    "\n",
    "Il rischio di un dataset sbilanciato è quello di \n",
    "\n",
    "> _oscurare la relazione fra le variabili esplicative e la variabile risposta e porta ad una percentuale elevata di errori di classificazione a sfavore delle unità rare, sulle quali vi è meno informazione_\n",
    "\n",
    "Per ovviare a questo problema in \\[1\\], viene presentato un campionamento stratificato rispetto alla variabile di risposta $Y$ che consiste in:\n",
    "\n",
    "- Estrarre in modo casuale una frazione delle unità sane tale da riportare il campione ad essere bilanciato.\n",
    "- Spostare le unità sane non estratte dal campione di stima al campione di convalida.\n"
   ]
  },
  {
   "cell_type": "code",
   "execution_count": 112,
   "metadata": {},
   "outputs": [],
   "source": [
    "bad_units = y_train[y_train==BAD_PAYER_STATUS]\n",
    "good_units = y_train[y_train==GOOD_PAYER_STATUS]\n",
    "\n",
    "number_of_bad_units = bad_units.shape[0]\n",
    "\n",
    "sampled_good_units = np.random.choice(good_units.index, size = number_of_bad_units, replace = False)\n",
    "not_sampled_good_units = [i for i in good_units.index if i not in sampled_good_units]\n",
    "\n",
    "new_x_train_indexes = [i for i in y_train.index if i in sampled_good_units or i in bad_units.index]"
   ]
  },
  {
   "cell_type": "code",
   "execution_count": 113,
   "metadata": {},
   "outputs": [],
   "source": [
    "old_x_train = X_train.copy()\n",
    "old_y_train = y_train.copy()\n",
    "X_train = X_train.loc[new_x_train_indexes]\n",
    "y_train = y_train.loc[new_x_train_indexes]\n",
    "#concat original test set with units moved from training set\n",
    "X_test = pd.concat([X_test, old_x_train.loc[not_sampled_good_units]])\n",
    "y_test = pd.concat([y_test, old_y_train.loc[not_sampled_good_units]])"
   ]
  },
  {
   "cell_type": "markdown",
   "metadata": {},
   "source": [
    "Implementazione della metodologia:\n",
    "\n",
    "Per non implementare il modello logistico da zero, adopereremo la libreria _sklearn_ e, in particolare, la classe _LogisticRegression_."
   ]
  },
  {
   "cell_type": "code",
   "execution_count": 114,
   "metadata": {},
   "outputs": [],
   "source": [
    "from sklearn.linear_model import LogisticRegression"
   ]
  },
  {
   "cell_type": "code",
   "execution_count": 115,
   "metadata": {},
   "outputs": [
    {
     "name": "stderr",
     "output_type": "stream",
     "text": [
      "/home/marco/.local/lib/python3.6/site-packages/sklearn/linear_model/logistic.py:433: FutureWarning: Default solver will be changed to 'lbfgs' in 0.22. Specify a solver to silence this warning.\n",
      "  FutureWarning)\n"
     ]
    },
    {
     "data": {
      "text/plain": [
       "LogisticRegression(C=1.0, class_weight=None, dual=False, fit_intercept=True,\n",
       "          intercept_scaling=1, max_iter=100, multi_class='warn',\n",
       "          n_jobs=None, penalty='l1', random_state=None, solver='warn',\n",
       "          tol=0.0001, verbose=0, warm_start=False)"
      ]
     },
     "execution_count": 115,
     "metadata": {},
     "output_type": "execute_result"
    }
   ],
   "source": [
    "logistic_model = LogisticRegression(penalty='l1')\n",
    "logistic_model.fit(X_train, y_train)"
   ]
  },
  {
   "cell_type": "markdown",
   "metadata": {},
   "source": [
    "Valutazione del modello: **La curva ROC**(Receiver Operating Characteristic)\n",
    "\n",
    "Per ottenere una misura della bontà del nostro modello viene adoperata la curva ROC. Questo metodo si basa sul concetto che, per valori fissati della _specificità_(proporzione di veri negativi), la funzione di score deve presentare valori elevati di _sensibilità_(prop. di veri positivi). \n",
    "\n",
    "La curva è caratterizzata dall'interpolazione di coppie di punti (1 - _specificità_, _sensibilità_) per diversi valori di soglia _s_. \n",
    "\n",
    "Questo parametro serve a determinare la regione di accettazione dei clienti definita come $A = \\{ x | \\frac{P(Y=1 | x)}{P(Y=0 | x)} > s \\}$."
   ]
  },
  {
   "cell_type": "code",
   "execution_count": 116,
   "metadata": {},
   "outputs": [],
   "source": [
    "from sklearn.metrics import roc_curve, auc"
   ]
  },
  {
   "cell_type": "code",
   "execution_count": 117,
   "metadata": {},
   "outputs": [],
   "source": [
    "scores = logistic_model.predict_proba(X_test)"
   ]
  },
  {
   "cell_type": "code",
   "execution_count": 133,
   "metadata": {},
   "outputs": [],
   "source": [
    "fpr, tpr, thresholds = roc_curve(y_test, scores[:,0], pos_label=0)\n",
    "auc_val = auc(fpr,tpr)"
   ]
  },
  {
   "cell_type": "code",
   "execution_count": 134,
   "metadata": {},
   "outputs": [],
   "source": [
    "#ora dobbiamo graficare la curva ROC\n",
    "import matplotlib.pyplot as plt\n",
    "import seaborn as sns; sns.set()"
   ]
  },
  {
   "cell_type": "code",
   "execution_count": 135,
   "metadata": {},
   "outputs": [
    {
     "data": {
      "image/png": "[encoded data removed]",
      "text/plain": [
       "<Figure size 576x576 with 1 Axes>"
      ]
     },
     "metadata": {},
     "output_type": "display_data"
    }
   ],
   "source": [
    "fontsize_for_label = 14\n",
    "fontsize_for_title = 18\n",
    "fig, ax = plt.subplots(1,1, figsize=(8,8))\n",
    "ax.plot(fpr, tpr, color='darkorange',\n",
    "         lw=2, label='Curva ROC (area = %0.2f)' % auc_val)\n",
    "ax.plot([0, 1], [0, 1], color='navy', lw=2, linestyle='--')\n",
    "ax.set_xlim([0.0, 1.0])\n",
    "ax.set_ylim([0.0, 1.05])\n",
    "ax.set_xlabel('1 - specificità', fontsize = fontsize_for_label)\n",
    "ax.set_ylabel('sensibilità', fontsize = fontsize_for_label)\n",
    "ax.set_title('Receiver operating characteristic - ROC', fontsize = fontsize_for_title)\n",
    "plt.legend(loc=\"lower right\", fontsize = fontsize_for_label)\n",
    "fig.tight_layout()"
   ]
  },
  {
   "cell_type": "code",
   "execution_count": 136,
   "metadata": {},
   "outputs": [],
   "source": [
    "#salviamo la figura in memoria\n",
    "fig.savefig(\"roc_first_model.png\")\n",
    "fig.savefig(\"roc_first_model.pdf\", format = 'pdf', dpi = 1000)"
   ]
  },
  {
   "cell_type": "markdown",
   "metadata": {},
   "source": [
    "In assenza di predeterminate esigenze aziendali come ad esempio la propensione al rischio dell'istituto di credito, la migliore soglia _s_ da scegliere è quella che massimizza la differenza con la bisettrice."
   ]
  },
  {
   "cell_type": "code",
   "execution_count": 121,
   "metadata": {},
   "outputs": [
    {
     "name": "stdout",
     "output_type": "stream",
     "text": [
      "Best choices:\n",
      "- Treshold s = 1.1814\n",
      "- Sensitivity s = 0.6392 - Type I accuracy\n",
      "- Specificity s = 0.6784 - Type II accuracy\n",
      "- AUC = 0.698\n"
     ]
    }
   ],
   "source": [
    "best_threshold_index = np.argmax(tpr - fpr)\n",
    "\n",
    "#this is because sklearn uses a different formalism with respect to the reference [1]\n",
    "best_threshold = thresholds[best_threshold_index] / (1 - thresholds[best_threshold_index])\n",
    "sensitivity = tpr[best_threshold_index]\n",
    "specificity = 1 - fpr[best_threshold_index]\n",
    "\n",
    "print(\"Best choices:\")\n",
    "print(\"- Treshold s = \"+str(round(best_threshold,4)))\n",
    "print(\"- Sensitivity s = \"+str(round(sensitivity,4))+\" - Type I accuracy\")\n",
    "print(\"- Specificity s = \"+str(round(specificity,4))+\" - Type II accuracy\")\n",
    "print(\"- AUC = \"+str(round(auc_val,3)))"
   ]
  },
  {
   "cell_type": "markdown",
   "metadata": {},
   "source": [
    "Un'altra maniera per valutare la bontà del classificatore è quella di usare la _confusion matrix_. Questa matrice, nel caso di classificazione binaria, ha una forma $2 \\times 2$ e contiene quante volte abbiamo sia correttamente sia in maniera errata classificato le istanze del nostro dataset per ogni classe presente."
   ]
  },
  {
   "cell_type": "code",
   "execution_count": 122,
   "metadata": {},
   "outputs": [],
   "source": [
    "probabilities = logistic_model.predict_proba(X_test)\n",
    "final_labels = np.full(shape = probabilities.shape[0], fill_value = -1, dtype=np.int8)\n",
    "for i in range(probabilities.shape[0]):\n",
    "    if (probabilities[i][0] / probabilities[i][1]) > best_threshold:\n",
    "        final_labels[i] = 0\n",
    "    else:\n",
    "        final_labels[i] = 1"
   ]
  },
  {
   "cell_type": "code",
   "execution_count": 123,
   "metadata": {},
   "outputs": [],
   "source": [
    "#compute confusion matrix\n",
    "from sklearn.metrics import confusion_matrix"
   ]
  },
  {
   "cell_type": "code",
   "execution_count": 124,
   "metadata": {},
   "outputs": [],
   "source": [
    "cm = confusion_matrix(y_test, final_labels)"
   ]
  },
  {
   "cell_type": "code",
   "execution_count": 125,
   "metadata": {},
   "outputs": [
    {
     "data": {
      "image/png": "[encoded data removed]",
      "text/plain": [
       "<Figure size 576x576 with 2 Axes>"
      ]
     },
     "metadata": {},
     "output_type": "display_data"
    }
   ],
   "source": [
    "fontsize_for_label = 14\n",
    "fontsize_for_title = 18\n",
    "\n",
    "fig, ax = plt.subplots(1,1, figsize = (8,8))\n",
    "ax = sns.heatmap(cm, annot = True, fmt=\"d\" ,cmap = plt.cm.Blues, ax = ax, annot_kws={\"fontsize\":fontsize_for_label})\n",
    "\n",
    "classes_names = [\"Cattivi creditori\", \"Buoni creditori\"]\n",
    "ax.set_xticklabels(classes_names, fontsize = fontsize_for_label)\n",
    "ax.set_yticklabels(classes_names, fontsize = fontsize_for_label)\n",
    "\n",
    "ax.set_ylabel(\"Etichette reali\", fontsize = fontsize_for_title)\n",
    "ax.set_xlabel(\"Etichette predette\", fontsize = fontsize_for_title)\n",
    "\n",
    "ax.set_title(\"Confusion Matrix per modello logistico\", fontsize = fontsize_for_title)\n",
    "fig.tight_layout()"
   ]
  },
  {
   "cell_type": "code",
   "execution_count": 127,
   "metadata": {},
   "outputs": [],
   "source": [
    "fig.savefig(\"confusion_matrix_first_model.png\")\n",
    "fig.savefig(\"confusion_matrix_first_model.pdf\", format = 'pdf', dpi = 1000)"
   ]
  },
  {
   "cell_type": "markdown",
   "metadata": {},
   "source": [
    "Un fattore considerato da \\[1\\] nella costruzione di un modello di credit scoring è quello di rendere il modello più _parsimonioso_ possibile, cioé utilizzare il numero minimale di variabili predittive.\n",
    "\n",
    "In \\[1\\], sono presentate delle tecniche di verifica di ipotesi per giungere al modello minimale tramite _backward_, _forward_ o _stepwise_ selection. Tuttavia il pacchetto Python _sklearn_ permette di utilizzare il modello logistico con regolarizzazione di tipo L1, che riesce a ridurre a zero il coefficiente di regressione delle variabili meno predittive riuscendo quindi a fare _Feature Selection_ senza dover usare le tecniche menzionate in \\[1\\]."
   ]
  },
  {
   "cell_type": "markdown",
   "metadata": {},
   "source": [
    "Stabilire importanza predittiva: **Permutation feature importance algorithm**\n",
    "\n",
    "Oggigiorno l'_incredibile alta accuratezza predittiva_ dei modelli di Machine Learning ha reso il loro uso indispensabile in una vasta gamma di applicazioni. Tuttavia la loro _struttura non lineare_ li rende _poco trasparenti_ ed è difficile capire quale informazione nell'input guidi la decisione del modello \\[5\\]. Questo aspetto risulta rilevante in ambiti come la diagnosi medica, in cui sarebbe poco cauto affidarsi ciecamente alla decisione di un modello, o il _credit scoring_ in cui il cosiddetto \"diritto alla spiegazione\" obbliga gli istituti di concessione di credito a riportare una lista di ragioni per cui un finanziamento non possa essere erogato \\[6\\].\n",
    "\n",
    "Per stabilire l'importanza predittiva di un modello di Machine Learning è stato proposto il **permutation feature importance algorithm** da \\[7\\]. L'algoritmo funziona nel seguente modo:\n",
    "\n",
    "Input: Modello trainato $f$, matrice di dati $X$, vettore etichette $y$, funzione di perdita $L(y, f)$.\n",
    "\n",
    "1. Stima l'errore originale del modello $e_{orig} = L(y, f(X))$, in questo caso $L$ è $1 - AUC$.\n",
    "2. Per ogni feature $j = 1,…,p$:\n",
    "    - Genera la matrice di dati $X_{perm}$ permutando in maniera casuale la feature $j$ nei dati $X$. Questo spezza l'associazione tra la feature $j$ e la vera etichetta $y$.\n",
    "    - Stima l'errore $e_{perm}=L(y, f(X_{perm}))$ basando le predizioni sui dati permutati.\n",
    "    - Calcola il *permutation feature importance* $FI_j = \\frac{e_{perm}}{e_{orig}}$\n",
    "    \n",
    "3. Ordina le features in maniera discendente rispetto a $FI$.\n",
    "\n",
    "Per avere una stima più accurata, ripeteremo il punto $2$ per ogni feature $j$ un numero $N=100$ di volte e plotteremo la media e la deviazione standard del campione di $N$ permutazioni."
   ]
  },
  {
   "cell_type": "code",
   "execution_count": 128,
   "metadata": {},
   "outputs": [],
   "source": [
    "#estimation of the original error\n",
    "original_error = 1 - auc_val"
   ]
  },
  {
   "cell_type": "code",
   "execution_count": 129,
   "metadata": {},
   "outputs": [],
   "source": [
    "N = 100\n",
    "feature_importance_mean = {}\n",
    "feature_importance_std = {}\n",
    "\n",
    "for feature_j in X_test.columns:\n",
    "    #generate a random permutation of feature J\n",
    "    mock_data = X_test.copy()\n",
    "    fi_array = np.full(shape=N, fill_value = -1.)\n",
    "    for x in range(N):\n",
    "        np.random.shuffle(mock_data[feature_j].values) \n",
    "        #evaluate the error\n",
    "        scores = logistic_model.predict_proba(mock_data)\n",
    "        fpr, tpr, thresholds = roc_curve(y_test, scores[:,0], pos_label=0)\n",
    "        auc_val = auc(fpr,tpr)\n",
    "        #compute the permutation error\n",
    "        permutation_error = 1 - auc_val\n",
    "        #store the feature importance value\n",
    "        fi_array[x] = permutation_error/original_error\n",
    "    feature_importance_mean[feature_j] = fi_array.mean()\n",
    "    feature_importance_std[feature_j] = fi_array.std()"
   ]
  },
  {
   "cell_type": "code",
   "execution_count": 130,
   "metadata": {},
   "outputs": [],
   "source": [
    "sorted_x = np.array(sorted(feature_importance_mean.items(), key=lambda kv: kv[1]))"
   ]
  },
  {
   "cell_type": "code",
   "execution_count": 131,
   "metadata": {},
   "outputs": [],
   "source": [
    "negative_variable_color =  \"red\"#(255,0,0)\n",
    "positive_variable_color =  \"green\"#(0,255,0)\n",
    "\n",
    "all_coefs = logistic_model.coef_.flatten()#logistic_model.coef_.flatten()\n",
    "def get_index(column_val):\n",
    "    return np.where(X_train.columns.values == column_val)[0][0]\n",
    "\n",
    "colors = [negative_variable_color if all_coefs[get_index(j)] < 0 else positive_variable_color for j in sorted_x[:,0]]"
   ]
  },
  {
   "cell_type": "code",
   "execution_count": 132,
   "metadata": {},
   "outputs": [
    {
     "data": {
      "image/png": "[encoded data removed]",
      "text/plain": [
       "<Figure size 576x576 with 1 Axes>"
      ]
     },
     "metadata": {},
     "output_type": "display_data"
    }
   ],
   "source": [
    "fig, ax = plt.subplots(1,1, figsize=(8,8))\n",
    "\n",
    "ax.errorbar(y=sorted_x[:,0], x=sorted_x[:,1].astype(float), xerr=[feature_importance_std[j] for j in sorted_x[:,0]], fmt='o',color=\"black\", ecolor=colors)\n",
    "\n",
    "ax.set_xlabel(\"Feature Importance (loss: 1 - AUC)\", fontsize = fontsize_for_label)\n",
    "ax.set_ylabel(\"Features\", fontsize = fontsize_for_label)\n",
    "plt.tick_params(axis='y', which='major', labelsize=8)\n",
    "\n",
    "from matplotlib.lines import Line2D\n",
    "legend_elements = [Line2D([0], [0], color='green', lw=4, label=\"Variabile Positiva\"), Line2D([0], [0], color='red', lw=4, label=\"Variabile Negativa\")]\n",
    "\n",
    "ax.legend(handles=legend_elements, fontsize = fontsize_for_label, loc=7)\n",
    "fig.tight_layout()"
   ]
  },
  {
   "cell_type": "code",
   "execution_count": 91,
   "metadata": {},
   "outputs": [],
   "source": [
    "fig.savefig(\"feature_importance.png\")\n",
    "fig.savefig(\"feature_importance.pdf\", format='pdf', dpi=1000)"
   ]
  },
  {
   "cell_type": "markdown",
   "metadata": {},
   "source": [
    "E' possibile osservare che tra le variabili più importanti ci sono:\n",
    "\n",
    "1) Durata residua al saldo dei prestiti personali in corso.\n",
    "\n",
    "2) Se il cliente è al momento residente sotto contratto di _Affitto_.\n",
    "\n",
    "3) Numero di prestiti personali in corso.\n",
    "\n",
    "La variabile 1 ha una correlazione positiva con la variabile target(buon pagatore). Il modello logistico pone importanza sulla durata residua dei prestiti personali del cliente, questo aspetto non è facilmente spiegabile tramite conoscenza di dominio e per questo meriterebbe un approfondimento.\n",
    "\n",
    "La variabile 2 ha una correlazione negativa con la variabile target che pare essere sensata visto che il cliente in affito non possiede ricchezze immobiliari per poter coprire eventuali momenti di mancanza di liquidità.\n",
    "\n",
    "La variabile 3 ha una correlazione negativa e anche questo sembra essere sensato poiché l'accumulo di debito passato rende meno probabile la solvenza di nuovo debito.\n"
   ]
  },
  {
   "cell_type": "markdown",
   "metadata": {},
   "source": [
    "#### Confronto con modelli di credit scoring esposti in letteratura:\n",
    "\n",
    "Un'ulteriore valutazione della bontà del nostro modello può derivare dal confronto con modelli di credit scoring implementati in letteratura. Prenderemo spunto dal lavoro in \\[3\\] che utilizza Logistic Regression su tre diversi dataset e che valuta i modelli con gli indicatori AUC, sensitivity e specificity(gli stessi usati nel nostro lavoro).\n",
    "\n",
    "La seguente tabella riporta i risultati ottenuti da West con Logistic Regression sui tre diversi dataset e dal nostro modello:"
   ]
  },
  {
   "cell_type": "markdown",
   "metadata": {},
   "source": [
    "![Tabella di confronto con West, 2000](./res/tabella_di_confronto.png)"
   ]
  },
  {
   "cell_type": "markdown",
   "metadata": {},
   "source": [
    "Si può osservare come i valori cambino in maniera abbastanza significativa in base al dataset usato, tuttavia il nostro modello risulta essere migliore per ognuno dei tre parametri rispetto al modello implementato da West sul dataset _England_. Ciò suggerisce che il nostro modello possa essere un buon punto di partenza per poter costruire un modello di credit scoring basato su Logistic Regression ottimale."
   ]
  },
  {
   "cell_type": "markdown",
   "metadata": {},
   "source": [
    "Riferimenti:\n",
    "\n",
    "\\[1\\]: Stanghellini, E. (2009). Introduzione ai metodi statistici per il credit scoring. Springer Science & Business Media, .\n",
    "\n",
    "\\[2\\]: https://en.wikipedia.org/wiki/Equal_Credit_Opportunity_Act\n",
    "\n",
    "\\[3\\]: West, D. (2000). Neural network credit scoring models. Computers & Operations Research, 27, 1131-1152.\n",
    "\n",
    "\\[4\\]: Abdou, H. & Pointon, J. (2011) 'Credit scoring, statistical techniques and evaluation criteria: a review of the literature ', Intelligent Systems in Accounting, Finance & Management, 18 (2-3), pp. 59-88.\n",
    "\n",
    "\\[5\\]: Samech, W., Wiegand, T., & Muller, K. (2017). Explainable Artificial Intelligence: Understanding, Visualizing and Interpreting Deep Learning Models. Arxiv prePrint:arXiv:1708.08296, .\n",
    "\n",
    "\\[6\\]: https://en.wikipedia.org/wiki/Right_to_explanation\n",
    "\n",
    "\\[7\\]: Fisher, A., Rudin, C., & Dominici, F. (2018). All Models are Wrong but many are Useful: Variable Importance for Black-Box, Proprietary, or Misspecified Prediction Models, using Model Class Reliance. Arxiv prePrint:arXiv:1801.01489, .\n",
    "\n",
    "\\[8\\]: Tibshirani, R. (1997). The LASSO method for variable selection in the Cox model. Statistics in Medicine, 16, 185-195.\n"
   ]
  }
 ],
 "metadata": {
  "kernelspec": {
   "display_name": "Python 3",
   "language": "python",
   "name": "python3"
  },
  "language_info": {
   "codemirror_mode": {
    "name": "ipython",
    "version": 3
   },
   "file_extension": ".py",
   "mimetype": "text/x-python",
   "name": "python",
   "nbconvert_exporter": "python",
   "pygments_lexer": "ipython3",
   "version": "3.6.8"
  }
 },
 "nbformat": 4,
 "nbformat_minor": 2
}
